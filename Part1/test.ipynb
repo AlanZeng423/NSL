{
 "cells": [
  {
   "cell_type": "code",
   "execution_count": 4,
   "metadata": {
    "collapsed": true,
    "ExecuteTime": {
     "end_time": "2023-10-19T11:18:41.553121Z",
     "start_time": "2023-10-19T11:18:41.551369Z"
    }
   },
   "outputs": [
    {
     "name": "stdout",
     "output_type": "stream",
     "text": [
      "[1, 4, 16, 64, 256, 1024]\n",
      "[<queue.Queue object at 0x119027ac0>, <queue.Queue object at 0x119026bc0>, <queue.Queue object at 0x119026fe0>, <queue.Queue object at 0x119026d40>, <queue.Queue object at 0x119026e00>, <queue.Queue object at 0x119026ec0>]\n"
     ]
    }
   ],
   "source": [
    "import queue\n",
    "first_quantum=6\n",
    "quantum_rate=4\n",
    "queue_num=6\n",
    "quantum_list = []\n",
    "multi_level_priority_queue = []\n",
    "for i in range(queue_num):\n",
    "    quantum_list.append(quantum_rate ** i)\n",
    "    temp_q = queue.Queue(-1)\n",
    "    multi_level_priority_queue.append(temp_q)\n",
    "\n",
    "print(quantum_list)\n",
    "print(multi_level_priority_queue)"
   ]
  },
  {
   "cell_type": "code",
   "execution_count": 5,
   "outputs": [
    {
     "name": "stdout",
     "output_type": "stream",
     "text": [
      "1\n"
     ]
    }
   ],
   "source": [
    "from scheduler import find\n",
    "list = [6, 24, 96, 384]\n",
    "x = find(list,7)\n",
    "print(x)"
   ],
   "metadata": {
    "collapsed": false,
    "ExecuteTime": {
     "end_time": "2023-10-19T05:37:06.896234Z",
     "start_time": "2023-10-19T05:37:06.804491Z"
    }
   }
  },
  {
   "cell_type": "code",
   "execution_count": 4,
   "outputs": [
    {
     "ename": "NameError",
     "evalue": "name 'find' is not defined",
     "output_type": "error",
     "traceback": [
      "\u001B[0;31m---------------------------------------------------------------------------\u001B[0m",
      "\u001B[0;31mNameError\u001B[0m                                 Traceback (most recent call last)",
      "Cell \u001B[0;32mIn[4], line 2\u001B[0m\n\u001B[1;32m      1\u001B[0m \u001B[38;5;28mlist\u001B[39m \u001B[38;5;241m=\u001B[39m [\u001B[38;5;241m6\u001B[39m, \u001B[38;5;241m24\u001B[39m, \u001B[38;5;241m96\u001B[39m, \u001B[38;5;241m384\u001B[39m]\n\u001B[0;32m----> 2\u001B[0m x \u001B[38;5;241m=\u001B[39m \u001B[43mfind\u001B[49m(\u001B[38;5;28mlist\u001B[39m,\u001B[38;5;241m7\u001B[39m)\n\u001B[1;32m      3\u001B[0m \u001B[38;5;28mprint\u001B[39m(x)\n",
      "\u001B[0;31mNameError\u001B[0m: name 'find' is not defined"
     ]
    }
   ],
   "source": [],
   "metadata": {
    "collapsed": false,
    "ExecuteTime": {
     "end_time": "2023-10-19T05:36:58.680904Z",
     "start_time": "2023-10-19T05:36:58.431288Z"
    }
   }
  },
  {
   "cell_type": "code",
   "execution_count": null,
   "outputs": [
    {
     "ename": "SyntaxError",
     "evalue": "incomplete input (1615888541.py, line 17)",
     "output_type": "error",
     "traceback": [
      "\u001B[0;36m  Cell \u001B[0;32mIn[2], line 17\u001B[0;36m\u001B[0m\n\u001B[0;31m    print(find([6, 24, 96, 384], 7)\u001B[0m\n\u001B[0m                                   ^\u001B[0m\n\u001B[0;31mSyntaxError\u001B[0m\u001B[0;31m:\u001B[0m incomplete input\n"
     ]
    }
   ],
   "source": [
    "def find(sorted_list, x):\n",
    "    # 使用二分查找算法\n",
    "    low = 0\n",
    "    high = len(sorted_list) - 1\n",
    "    result = None\n",
    "\n",
    "    while low <= high:\n",
    "        mid = (low + high) // 2\n",
    "        if sorted_list[mid] > x:\n",
    "            result = mid\n",
    "            high = mid - 1  # 继续查找左半部分\n",
    "        else:\n",
    "            low = mid + 1  # 继续查找右半部分\n",
    "\n",
    "    return result\n",
    "\n",
    "print(find([6, 24, 96, 384], 7)"
   ],
   "metadata": {
    "collapsed": false,
    "ExecuteTime": {
     "end_time": "2023-10-24T09:44:14.627571Z",
     "start_time": "2023-10-24T09:44:14.622252Z"
    }
   }
  },
  {
   "cell_type": "code",
   "execution_count": 4,
   "outputs": [
    {
     "name": "stdout",
     "output_type": "stream",
     "text": [
      "[1, 4, 16, 64, 256, 1024]\n",
      "[<queue.Queue object at 0x119027ac0>, <queue.Queue object at 0x119026bc0>, <queue.Queue object at 0x119026fe0>, <queue.Queue object at 0x119026d40>, <queue.Queue object at 0x119026e00>, <queue.Queue object at 0x119026ec0>]\n"
     ]
    }
   ],
   "source": [
    "\n"
   ],
   "metadata": {
    "collapsed": false
   }
  },
  {
   "cell_type": "code",
   "execution_count": 6,
   "outputs": [
    {
     "name": "stdout",
     "output_type": "stream",
     "text": [
      "0\n"
     ]
    }
   ],
   "source": [
    "def find(sorted_list, x):\n",
    "    # 使用二分查找算法\n",
    "    low = 0\n",
    "    high = len(sorted_list) - 1\n",
    "    result = None\n",
    "\n",
    "    while low <= high:\n",
    "        mid = (low + high) // 2\n",
    "        if sorted_list[mid] >= x:\n",
    "            result = mid\n",
    "            high = mid - 1  # 继续查找左半部分\n",
    "        else:\n",
    "            low = mid + 1  # 继续查找右半部分\n",
    "\n",
    "    return result\n",
    "\n",
    "# print(find([6, 24, 96, 384], 7))\n",
    "print(find([1, 2, 4, 8, 16], 1))\n"
   ],
   "metadata": {
    "collapsed": false,
    "ExecuteTime": {
     "end_time": "2023-10-24T09:47:41.190383Z",
     "start_time": "2023-10-24T09:47:41.173931Z"
    }
   }
  },
  {
   "cell_type": "code",
   "execution_count": null,
   "outputs": [],
   "source": [],
   "metadata": {
    "collapsed": false
   }
  }
 ],
 "metadata": {
  "kernelspec": {
   "display_name": "Python 3",
   "language": "python",
   "name": "python3"
  },
  "language_info": {
   "codemirror_mode": {
    "name": "ipython",
    "version": 2
   },
   "file_extension": ".py",
   "mimetype": "text/x-python",
   "name": "python",
   "nbconvert_exporter": "python",
   "pygments_lexer": "ipython2",
   "version": "2.7.6"
  }
 },
 "nbformat": 4,
 "nbformat_minor": 0
}
